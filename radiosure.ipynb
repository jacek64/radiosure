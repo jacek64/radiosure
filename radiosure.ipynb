{
 "cells": [
  {
   "cell_type": "code",
   "execution_count": null,
   "metadata": {
    "collapsed": true
   },
   "outputs": [],
   "source": [
    "zip_name = \"stations2.zip\""
   ]
  },
  {
   "cell_type": "code",
   "execution_count": null,
   "metadata": {
    "collapsed": false,
    "scrolled": true
   },
   "outputs": [],
   "source": [
    "# SIMPLE\n",
    "#import urllib2\n",
    "#response = urllib2.urlopen('http://www.example.com/')\n",
    "#html = response.read()\n",
    "\n",
    "# WITH PROGRESS\n",
    "\n",
    "import urllib2\n",
    "\n",
    "url = \"http://www.radiosure.com/rsdbms/stations2.zip?updated\"\n",
    "\n",
    "#file_name = url.split('/')[-1]\n",
    "zip_name = \"stations2.zip\"\n",
    "u = urllib2.urlopen(url)\n",
    "f = open(zip_name, 'wb')\n",
    "meta = u.info()\n",
    "file_size = int(meta.getheaders(\"Content-Length\")[0])\n",
    "print \"Downloading: %s Bytes: %s\" % (zip_name, file_size)\n",
    "\n",
    "file_size_dl = 0\n",
    "# block_sz = 262144\n",
    "block_sz = file_size // 10 + 9\n",
    "while True:\n",
    "    buffer = u.read(block_sz)\n",
    "    if not buffer:\n",
    "        break\n",
    "\n",
    "    file_size_dl += len(buffer)\n",
    "    f.write(buffer)\n",
    "    status = r\"%10d  [%3.2f%%]\" % (file_size_dl, file_size_dl * 100. / file_size)\n",
    "    status = status + chr(8)*(len(status)+1)\n",
    "    print status + '\\n'\n",
    "\n",
    "f.close()"
   ]
  },
  {
   "cell_type": "code",
   "execution_count": 17,
   "metadata": {
    "collapsed": false
   },
   "outputs": [
    {
     "name": "stdout",
     "output_type": "stream",
     "text": [
      "stations-2016-05-01.rsd\n"
     ]
    }
   ],
   "source": [
    "import zipfile\n",
    "\n",
    "zip_name = \"stations2.zip\"\n",
    "\n",
    "fh = open(zip_name, 'rb')\n",
    "z = zipfile.ZipFile(fh)\n",
    "for name in z.namelist():\n",
    "    outfile = open(name, 'wb')\n",
    "    outfile.write(z.read(name))\n",
    "    stations_name = name\n",
    "    outfile.close()\n",
    "fh.close()\n",
    "print stations_name"
   ]
  },
  {
   "cell_type": "code",
   "execution_count": 18,
   "metadata": {
    "collapsed": false
   },
   "outputs": [],
   "source": [
    "stations = []\n",
    "with open(stations_name,'r') as fp:\n",
    "    for line in fp:\n",
    "        station = line.decode(\"utf-8\", errors = 'replace').strip().split(\"\\t\")\n",
    "        stations.append(station)\n",
    "\n"
   ]
  },
  {
   "cell_type": "code",
   "execution_count": 19,
   "metadata": {
    "collapsed": false
   },
   "outputs": [
    {
     "data": {
      "text/plain": [
       "[u'\\ufeffWeFunk',\n",
       " u'Raw uncut deedp funk, quality underground hip-hop, rare grooves on the weekly show from Professor Groove & DJ Static. (www.wefunkradio.com)',\n",
       " u'Rap/Hip Hop',\n",
       " u'Canada',\n",
       " u'English',\n",
       " u'http://www.wefunkradio.com/play/shoutcast.pls',\n",
       " u'http://www.wefunkradio.com/play/shoutcast.m3u',\n",
       " u'http://207.200.96.232:8018',\n",
       " u'http://129.173.67.99:8000',\n",
       " u'http://129.173.67.99:8000/listen.pls',\n",
       " u'http://205.188.215.229:8018']"
      ]
     },
     "execution_count": 19,
     "metadata": {},
     "output_type": "execute_result"
    }
   ],
   "source": [
    "stations[0]"
   ]
  },
  {
   "cell_type": "code",
   "execution_count": 26,
   "metadata": {
    "collapsed": false
   },
   "outputs": [
    {
     "name": "stdout",
     "output_type": "stream",
     "text": [
      "32895\n",
      "{'lang': u'English', 'name': u'WeFunk', 'links': [u'http://www.wefunkradio.com/play/shoutcast.pls', u'http://www.wefunkradio.com/play/shoutcast.m3u', u'http://207.200.96.232:8018', u'http://129.173.67.99:8000', u'http://129.173.67.99:8000/listen.pls', u'http://205.188.215.229:8018'], 'country': u'Canada', 'genre': u'Rap/Hip Hop', 'desc': u'Raw uncut deedp funk, quality underground hip-hop, rare grooves on the weekly show from Professor Groove & DJ Static. (www.wefunkradio.com)'}\n"
     ]
    }
   ],
   "source": [
    "stat_dict_list = []\n",
    "first_line = True\n",
    "for item in stations:\n",
    "    stat_dict={}\n",
    "    if first_line:\n",
    "        st_name = item[0][1:]\n",
    "        first_line = False\n",
    "    else:\n",
    "        st_name = item[0]\n",
    "    stat_dict['name'] =  st_name\n",
    "    stat_dict['desc']    = item[1]\n",
    "    stat_dict['genre']   = item[2]\n",
    "    stat_dict['country'] = item[3]\n",
    "    stat_dict['lang']    = item[4]\n",
    "    stat_dict['links']   = []\n",
    "    for i in range(5,11):\n",
    "        if item[i] != '-':\n",
    "            stat_dict['links'].append(item[i])\n",
    "    stat_dict_list.append(stat_dict)\n",
    "    \n",
    "print len(stat_dict_list)\n",
    "    \n",
    "print stat_dict_list[0]"
   ]
  },
  {
   "cell_type": "code",
   "execution_count": 27,
   "metadata": {
    "collapsed": false,
    "scrolled": true
   },
   "outputs": [
    {
     "name": "stdout",
     "output_type": "stream",
     "text": [
      "81\n"
     ]
    }
   ],
   "source": [
    "# genres\n",
    "lines_out = []\n",
    "for item in stat_dict_list:\n",
    "    if item['name'].lower().find('nostalgia.') > -1 and item['genre'].lower().find('talk') == -1 and \\\n",
    "       item['genre'].lower().find('public') == -1:\n",
    "        lines_out.append(item['name'].ljust(60) + item['genre'].ljust(40) + item['country'])\n",
    "lines_out.sort()\n",
    "print len(lines_out)\n",
    "#for item in lines_out:\n",
    "#    print item"
   ]
  },
  {
   "cell_type": "code",
   "execution_count": null,
   "metadata": {
    "collapsed": false,
    "scrolled": true
   },
   "outputs": [],
   "source": [
    "ext_lst = []\n",
    "\n",
    "for item in stat_dict_list:\n",
    "    for link in item['links']:\n",
    "        ext = link[-3:]\n",
    "        if (ext == unicode('wpl')) \\\n",
    "            or (ext == unicode('ram')):\n",
    "            ext_lst.append(link)\n",
    "        \n",
    "\n",
    "print ext_lst\n",
    "        "
   ]
  },
  {
   "cell_type": "code",
   "execution_count": 44,
   "metadata": {
    "collapsed": false
   },
   "outputs": [],
   "source": [
    "genre_set = set({})\n",
    "for item in stat_dict_list:\n",
    "    genre_set.add(item['genre'])\n",
    "genre_lst = list(genre_set)\n",
    "\n",
    "genre_lst.sort()\n",
    "\n",
    "#genre_lst"
   ]
  },
  {
   "cell_type": "raw",
   "metadata": {},
   "source": [
    "newpath = r'C:\\Program Files\\arbitrary' \n",
    "if not os.path.exists(newpath):\n",
    "    os.makedirs(newpath)\n",
    "\n",
    "import os\n",
    "os.mkdir('newfolder')\n",
    "\n",
    "import os\n",
    "os.makedirs('dir1/dir2/dir3')\n",
    "\n",
    "So I made the following function that accepts an input such as ‘dir1/dir2/dir3/filename.txt’ and cuts it into the folder path using os.path.dirname(filename), and then checks if the folder exists using os.path.exists(folder), and then makes the folders if they don’t already exist.\n",
    "\n",
    "def mkdirnotex(filename):\n",
    "    folder=os.path.dirname(filename)\n",
    "    if not os.path.exists(folder):\n",
    "        os.makedirs(folder)\n",
    "\n",
    "#EXTM3U\n",
    "#EXTINF:-1,1.FM A List 80's\n",
    "http://185.33.21.113:11033"
   ]
  },
  {
   "cell_type": "raw",
   "metadata": {
    "collapsed": false
   },
   "source": [
    "import os\n",
    "\n",
    "base = 'stations/'\n",
    "for item in genre_lst:\n",
    "    fold = item.replace('\"', \"'\").replace('/', '-').replace(':', '.').replace('|', '-').replace('*', '-')\\\n",
    "           .replace('<', '-').replace('>', '-').replace('?', '-').replace('\\\\', '-')\n",
    "    path = base + item\n",
    "    if not os.path.exists(path):\n",
    "        #print path\n",
    "        os.makedirs(path)\n",
    "    "
   ]
  },
  {
   "cell_type": "code",
   "execution_count": 50,
   "metadata": {
    "collapsed": false
   },
   "outputs": [],
   "source": [
    "def get_links(link):\n",
    "    streams = []\n",
    "    ext = link[-3:]\n",
    "    if   ext == 'pls': link = '#PLS:' + link\n",
    "    elif ext == 'm3u': link = '#M3U:' + link\n",
    "    elif ext == 'asx': link = '#ASX:' + link\n",
    "    elif ext == 'wpl': link = '#WPL:' + link\n",
    "    elif ext == 'ram': link = '#RAM:' + link\n",
    "    streams.append(link)\n",
    "    return streams\n",
    "\n",
    "\n",
    "\n",
    "base = 'stations/'\n",
    "for item in stat_dict_list:\n",
    "    #print item\n",
    "    pre1 = item['genre'][:4]\n",
    "    pre2 = item['genre'][:6]\n",
    "    pre_good = (pre1 != 'Talk') and (pre1 != 'All ') and \\\n",
    "               (pre2 != 'Childr') and (pre2 != 'Islami') and (pre2 != 'Religi') and (pre2 != 'Bollyw')\n",
    "    if pre_good:\n",
    "        fold_1 = item['genre'].replace('\"', \"'\").replace('/', '-').replace(':', '.').replace('|', '-').replace('*', '-')\\\n",
    "                .replace('<', '-').replace('>', '-').replace('?', '-').replace('\\\\', '-')\n",
    "        fold_2 = item['lang']\n",
    "        dir_path = base + fold_1 + '/' + fold_2\n",
    "#---------------------------------------------------------        \n",
    "        if not os.path.exists(dir_path):\n",
    "            os.makedirs(dir_path)\n",
    "        file_name = item['name'].replace('\"', \"'\").replace('/', '-').replace(':', '.').replace('|', '-').replace('*', '-')\\\n",
    "                    .replace('<', '-').replace('>', '-').replace('?', '-').replace('\\\\', '-')\n",
    "        file_path = dir_path + '/' + file_name + '.m3u'\n",
    "        # print file_path\n",
    "        f = open(file_path, 'w')\n",
    "        f.write('#EXTM3U' + '\\n')\n",
    "        f.write('#EXTINF:-1,' + item['name'].encode('utf-8') + '\\n')\n",
    "        for link in item['links']:\n",
    "            streams = get_links(link)\n",
    "            for stream in streams:\n",
    "                f.write(stream.encode('utf-8') + '\\n')\n",
    "        f.write('#GENRE:' + item['genre'].encode('utf-8') + '\\n')\n",
    "        f.write('#COUNTRY:' + item['country'].encode('utf-8') + '\\n')\n",
    "        f.write('#LANGUAGE:' + item['lang'].encode('utf-8') + '\\n')\n",
    "        f.write('#DESCRIPTION:' + item['desc'].encode('utf-8') + '\\n')\n",
    "\n",
    "        f.close\n",
    "    "
   ]
  },
  {
   "cell_type": "code",
   "execution_count": 15,
   "metadata": {
    "collapsed": false
   },
   "outputs": [],
   "source": [
    "f.close()"
   ]
  }
 ],
 "metadata": {
  "kernelspec": {
   "display_name": "Python 2",
   "language": "python",
   "name": "python2"
  },
  "language_info": {
   "codemirror_mode": {
    "name": "ipython",
    "version": 2
   },
   "file_extension": ".py",
   "mimetype": "text/x-python",
   "name": "python",
   "nbconvert_exporter": "python",
   "pygments_lexer": "ipython2",
   "version": "2.7.11"
  }
 },
 "nbformat": 4,
 "nbformat_minor": 0
}
